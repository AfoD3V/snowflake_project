{
 "cells": [
  {
   "cell_type": "markdown",
   "id": "07a9f1c6-39e3-45a6-9ed0-961400287e1d",
   "metadata": {
    "collapsed": false,
    "name": "cell1"
   },
   "source": [
    "# Simple EDA"
   ]
  },
  {
   "cell_type": "code",
   "execution_count": 1,
   "id": "4f51aff2-b8f2-4049-a5ac-d3c4c60b68f7",
   "metadata": {
    "language": "python",
    "name": "cell3"
   },
   "outputs": [
    {
     "name": "stderr",
     "output_type": "stream",
     "text": [
      "/home/roman/Dev/Python/snowflake_project/.venv/lib/python3.12/site-packages/numpy/_core/getlimits.py:552: UserWarning: Signature b'\\x00\\xd0\\xcc\\xcc\\xcc\\xcc\\xcc\\xcc\\xfb\\xbf\\x00\\x00\\x00\\x00\\x00\\x00' for <class 'numpy.longdouble'> does not match any known type: falling back to type probe function.\n",
      "This warnings indicates broken support for the dtype!\n",
      "  machar = _get_machar(dtype)\n",
      "/home/roman/Dev/Python/snowflake_project/.venv/lib/python3.12/site-packages/snowflake/snowpark/session.py:38: UserWarning: pkg_resources is deprecated as an API. See https://setuptools.pypa.io/en/latest/pkg_resources.html. The pkg_resources package is slated for removal as early as 2025-11-30. Refrain from using this package or pin to Setuptools<81.\n",
      "  import pkg_resources\n"
     ]
    }
   ],
   "source": [
    "import pandas as pd\n",
    "import snowflake.snowpark as snowpark\n",
    "from snowflake.snowpark.functions import count\n",
    "from snowflake.snowpark.context import get_active_session"
   ]
  },
  {
   "cell_type": "code",
   "execution_count": 2,
   "id": "77201594-d52a-439f-a461-136c30a16ccd",
   "metadata": {
    "language": "python",
    "name": "cell4"
   },
   "outputs": [
    {
     "ename": "SnowparkSessionException",
     "evalue": "(1403): No default Session is found. Please create a session before you call function 'udf' or use decorator '@udf'.",
     "output_type": "error",
     "traceback": [
      "\u001b[31m---------------------------------------------------------------------------\u001b[39m",
      "\u001b[31mSnowparkSessionException\u001b[39m                  Traceback (most recent call last)",
      "\u001b[36mCell\u001b[39m\u001b[36m \u001b[39m\u001b[32mIn[2]\u001b[39m\u001b[32m, line 1\u001b[39m\n\u001b[32m----> \u001b[39m\u001b[32m1\u001b[39m session = \u001b[43mget_active_session\u001b[49m\u001b[43m(\u001b[49m\u001b[43m)\u001b[49m\n\u001b[32m      2\u001b[39m df = session.table(\u001b[33m\"\u001b[39m\u001b[33mRAW.CUSTOMER_CHURN_RAW\u001b[39m\u001b[33m\"\u001b[39m)\n\u001b[32m      4\u001b[39m \u001b[38;5;66;03m# Basic info (logged, but not returned)\u001b[39;00m\n",
      "\u001b[36mFile \u001b[39m\u001b[32m~/Dev/Python/snowflake_project/.venv/lib/python3.12/site-packages/snowflake/snowpark/context.py:87\u001b[39m, in \u001b[36mget_active_session\u001b[39m\u001b[34m()\u001b[39m\n\u001b[32m     79\u001b[39m \u001b[38;5;28;01mdef\u001b[39;00m\u001b[38;5;250m \u001b[39m\u001b[34mget_active_session\u001b[39m() -> \u001b[33m\"\u001b[39m\u001b[33msnowflake.snowpark.Session\u001b[39m\u001b[33m\"\u001b[39m:\n\u001b[32m     80\u001b[39m \u001b[38;5;250m    \u001b[39m\u001b[33;03m\"\"\"Returns the current active Snowpark session.\u001b[39;00m\n\u001b[32m     81\u001b[39m \n\u001b[32m     82\u001b[39m \u001b[33;03m    Raises: SnowparkSessionException: If there is more than one active session or no active sessions.\u001b[39;00m\n\u001b[32m   (...)\u001b[39m\u001b[32m     85\u001b[39m \u001b[33;03m        A :class:`Session` object for the current session.\u001b[39;00m\n\u001b[32m     86\u001b[39m \u001b[33;03m    \"\"\"\u001b[39;00m\n\u001b[32m---> \u001b[39m\u001b[32m87\u001b[39m     \u001b[38;5;28;01mreturn\u001b[39;00m \u001b[43msnowflake\u001b[49m\u001b[43m.\u001b[49m\u001b[43msnowpark\u001b[49m\u001b[43m.\u001b[49m\u001b[43msession\u001b[49m\u001b[43m.\u001b[49m\u001b[43m_get_active_session\u001b[49m\u001b[43m(\u001b[49m\u001b[43m)\u001b[49m\n",
      "\u001b[36mFile \u001b[39m\u001b[32m~/Dev/Python/snowflake_project/.venv/lib/python3.12/site-packages/snowflake/snowpark/session.py:313\u001b[39m, in \u001b[36m_get_active_session\u001b[39m\u001b[34m()\u001b[39m\n\u001b[32m    311\u001b[39m     \u001b[38;5;28;01mraise\u001b[39;00m SnowparkClientExceptionMessages.MORE_THAN_ONE_ACTIVE_SESSIONS()\n\u001b[32m    312\u001b[39m \u001b[38;5;28;01melse\u001b[39;00m:\n\u001b[32m--> \u001b[39m\u001b[32m313\u001b[39m     \u001b[38;5;28;01mraise\u001b[39;00m SnowparkClientExceptionMessages.SERVER_NO_DEFAULT_SESSION()\n",
      "\u001b[31mSnowparkSessionException\u001b[39m: (1403): No default Session is found. Please create a session before you call function 'udf' or use decorator '@udf'."
     ]
    }
   ],
   "source": [
    "session = get_active_session()\n",
    "df = session.table(\"RAW.CUSTOMER_CHURN_RAW\")\n",
    "\n",
    "# Basic info (logged, but not returned)\n",
    "print(\"📊 Row count:\", df.count())\n",
    "df.print_schema()\n",
    "\n",
    "print(\"\\n🔍 Sample data:\")\n",
    "df.show(10)\n",
    "\n",
    "# Categorical value counts\n",
    "print(\"\\n🧑‍🤝‍🧑 Gender distribution:\")\n",
    "df.group_by(\"GENDER\").agg(count(\"*\").alias(\"count\")).show()\n",
    "\n",
    "print(\"\\n🌍 Geography distribution:\")\n",
    "df.group_by(\"GEOGRAPHY\").agg(count(\"*\").alias(\"count\")).show()\n",
    "\n",
    "print(\"\\n💳 Card types:\")\n",
    "df.group_by(\"CARD_TYPE\").agg(count(\"*\").alias(\"count\")).show()\n",
    "\n",
    "# Binary flags\n",
    "print(\"\\n💳 Has credit card:\")\n",
    "df.group_by(\"HASCRCARD\").agg(count(\"*\").alias(\"count\")).show()\n",
    "\n",
    "print(\"\\n🔥 Active members:\")\n",
    "df.group_by(\"ISACTIVEMEMBER\").agg(count(\"*\").alias(\"count\")).show()\n",
    "\n",
    "# Target variable\n",
    "print(\"\\n🚪 Exited distribution:\")\n",
    "df.group_by(\"EXITED\").agg(count(\"*\").alias(\"count\")).show()\n",
    "\n",
    "# Numerical summary\n",
    "print(\"\\n📈 Summary statistics (AGE, BALANCE, CREDITSCORE):\")\n",
    "df.select(\"AGE\", \"BALANCE\", \"CREDITSCORE\").describe().show()\n",
    "\n",
    "print(\"\\n💰 Salary vs. Satisfaction:\")\n",
    "df.select(\"ESTIMATEDSALARY\", \"SATISFACTION_SCORE\").describe().show()\n"
   ]
  }
 ],
 "metadata": {
  "kernelspec": {
   "display_name": "snowflake-project",
   "language": "python",
   "name": "python3"
  },
  "language_info": {
   "codemirror_mode": {
    "name": "ipython",
    "version": 3
   },
   "file_extension": ".py",
   "mimetype": "text/x-python",
   "name": "python",
   "nbconvert_exporter": "python",
   "pygments_lexer": "ipython3",
   "version": "3.12.10"
  },
  "lastEditStatus": {
   "authorEmail": "romanafonin@protonmail.com",
   "authorId": "6599863535815",
   "authorName": "ROMAN",
   "lastEditTime": 1752562040005,
   "notebookId": "hkvtio2y3adfbn4o2xcw",
   "sessionId": "a2401487-6513-453c-9258-129e1928b8f4"
  }
 },
 "nbformat": 4,
 "nbformat_minor": 5
}
