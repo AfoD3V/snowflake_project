{
 "cells": [
  {
   "cell_type": "markdown",
   "id": "fc6ee622",
   "metadata": {},
   "source": [
    "# Import Section"
   ]
  },
  {
   "cell_type": "code",
   "execution_count": 1,
   "id": "060b989b",
   "metadata": {},
   "outputs": [
    {
     "name": "stderr",
     "output_type": "stream",
     "text": [
      "/home/roman/Dev/Python/snowflake_project/.venv/lib/python3.12/site-packages/numpy/_core/getlimits.py:552: UserWarning: Signature b'\\x00\\xd0\\xcc\\xcc\\xcc\\xcc\\xcc\\xcc\\xfb\\xbf\\x00\\x00\\x00\\x00\\x00\\x00' for <class 'numpy.longdouble'> does not match any known type: falling back to type probe function.\n",
      "This warnings indicates broken support for the dtype!\n",
      "  machar = _get_machar(dtype)\n",
      "/home/roman/Dev/Python/snowflake_project/.venv/lib/python3.12/site-packages/snowflake/snowpark/session.py:38: UserWarning: pkg_resources is deprecated as an API. See https://setuptools.pypa.io/en/latest/pkg_resources.html. The pkg_resources package is slated for removal as early as 2025-11-30. Refrain from using this package or pin to Setuptools<81.\n",
      "  import pkg_resources\n"
     ]
    }
   ],
   "source": [
    "from snowflake.snowpark import Session\n",
    "from snowflake.snowpark.functions import count\n",
    "from dotenv import load_dotenv\n",
    "import os\n",
    "import toml\n",
    "from pathlib import Path"
   ]
  },
  {
   "cell_type": "markdown",
   "id": "b380e1dd",
   "metadata": {},
   "source": [
    "# Set Session"
   ]
  },
  {
   "cell_type": "code",
   "execution_count": null,
   "id": "a222843a",
   "metadata": {},
   "outputs": [
    {
     "ename": "FileNotFoundError",
     "evalue": "Plik konfiguracyjny '/home/roman/Dev/Python/snowflake_project/connections.toml' nie został znaleziony. Upewnij się, że ścieżka jest poprawna.",
     "output_type": "error",
     "traceback": [
      "\u001b[31m---------------------------------------------------------------------------\u001b[39m",
      "\u001b[31mFileNotFoundError\u001b[39m                         Traceback (most recent call last)",
      "\u001b[36mCell\u001b[39m\u001b[36m \u001b[39m\u001b[32mIn[3]\u001b[39m\u001b[32m, line 9\u001b[39m\n\u001b[32m      8\u001b[39m \u001b[38;5;28;01mtry\u001b[39;00m:\n\u001b[32m----> \u001b[39m\u001b[32m9\u001b[39m     \u001b[38;5;28;01mwith\u001b[39;00m \u001b[38;5;28;43mopen\u001b[39;49m\u001b[43m(\u001b[49m\u001b[43mconfig_file_path\u001b[49m\u001b[43m,\u001b[49m\u001b[43m \u001b[49m\u001b[33;43m'\u001b[39;49m\u001b[33;43mr\u001b[39;49m\u001b[33;43m'\u001b[39;49m\u001b[43m)\u001b[49m \u001b[38;5;28;01mas\u001b[39;00m f:\n\u001b[32m     10\u001b[39m         config = toml.load(f)\n",
      "\u001b[36mFile \u001b[39m\u001b[32m~/Dev/Python/snowflake_project/.venv/lib/python3.12/site-packages/IPython/core/interactiveshell.py:343\u001b[39m, in \u001b[36m_modified_open\u001b[39m\u001b[34m(file, *args, **kwargs)\u001b[39m\n\u001b[32m    337\u001b[39m     \u001b[38;5;28;01mraise\u001b[39;00m \u001b[38;5;167;01mValueError\u001b[39;00m(\n\u001b[32m    338\u001b[39m         \u001b[33mf\u001b[39m\u001b[33m\"\u001b[39m\u001b[33mIPython won\u001b[39m\u001b[33m'\u001b[39m\u001b[33mt let you open fd=\u001b[39m\u001b[38;5;132;01m{\u001b[39;00mfile\u001b[38;5;132;01m}\u001b[39;00m\u001b[33m by default \u001b[39m\u001b[33m\"\u001b[39m\n\u001b[32m    339\u001b[39m         \u001b[33m\"\u001b[39m\u001b[33mas it is likely to crash IPython. If you know what you are doing, \u001b[39m\u001b[33m\"\u001b[39m\n\u001b[32m    340\u001b[39m         \u001b[33m\"\u001b[39m\u001b[33myou can use builtins\u001b[39m\u001b[33m'\u001b[39m\u001b[33m open.\u001b[39m\u001b[33m\"\u001b[39m\n\u001b[32m    341\u001b[39m     )\n\u001b[32m--> \u001b[39m\u001b[32m343\u001b[39m \u001b[38;5;28;01mreturn\u001b[39;00m \u001b[43mio_open\u001b[49m\u001b[43m(\u001b[49m\u001b[43mfile\u001b[49m\u001b[43m,\u001b[49m\u001b[43m \u001b[49m\u001b[43m*\u001b[49m\u001b[43margs\u001b[49m\u001b[43m,\u001b[49m\u001b[43m \u001b[49m\u001b[43m*\u001b[49m\u001b[43m*\u001b[49m\u001b[43mkwargs\u001b[49m\u001b[43m)\u001b[49m\n",
      "\u001b[31mFileNotFoundError\u001b[39m: [Errno 2] No such file or directory: '/home/roman/Dev/Python/snowflake_project/connections.toml'",
      "\nDuring handling of the above exception, another exception occurred:\n",
      "\u001b[31mFileNotFoundError\u001b[39m                         Traceback (most recent call last)",
      "\u001b[36mCell\u001b[39m\u001b[36m \u001b[39m\u001b[32mIn[3]\u001b[39m\u001b[32m, line 18\u001b[39m\n\u001b[32m     15\u001b[39m     connection_parameters = config[\u001b[33m\"\u001b[39m\u001b[33mconnections\u001b[39m\u001b[33m\"\u001b[39m][\u001b[33m\"\u001b[39m\u001b[33mmy_connection\u001b[39m\u001b[33m\"\u001b[39m]\n\u001b[32m     17\u001b[39m \u001b[38;5;28;01mexcept\u001b[39;00m \u001b[38;5;167;01mFileNotFoundError\u001b[39;00m:\n\u001b[32m---> \u001b[39m\u001b[32m18\u001b[39m     \u001b[38;5;28;01mraise\u001b[39;00m \u001b[38;5;167;01mFileNotFoundError\u001b[39;00m(\u001b[33mf\u001b[39m\u001b[33m\"\u001b[39m\u001b[33mPlik konfiguracyjny \u001b[39m\u001b[33m'\u001b[39m\u001b[38;5;132;01m{\u001b[39;00mconfig_file_path\u001b[38;5;132;01m}\u001b[39;00m\u001b[33m'\u001b[39m\u001b[33m nie został znaleziony. Upewnij się, że ścieżka jest poprawna.\u001b[39m\u001b[33m\"\u001b[39m)\n\u001b[32m     19\u001b[39m \u001b[38;5;28;01mexcept\u001b[39;00m toml.TomlDecodeError \u001b[38;5;28;01mas\u001b[39;00m e:\n\u001b[32m     20\u001b[39m     \u001b[38;5;28;01mraise\u001b[39;00m \u001b[38;5;167;01mValueError\u001b[39;00m(\u001b[33mf\u001b[39m\u001b[33m\"\u001b[39m\u001b[33mBłąd parsowania pliku TOML \u001b[39m\u001b[33m'\u001b[39m\u001b[38;5;132;01m{\u001b[39;00mconfig_file_path\u001b[38;5;132;01m}\u001b[39;00m\u001b[33m'\u001b[39m\u001b[33m: \u001b[39m\u001b[38;5;132;01m{\u001b[39;00me\u001b[38;5;132;01m}\u001b[39;00m\u001b[33m. Sprawdź składnię pliku.\u001b[39m\u001b[33m\"\u001b[39m)\n",
      "\u001b[31mFileNotFoundError\u001b[39m: Plik konfiguracyjny '/home/roman/Dev/Python/snowflake_project/connections.toml' nie został znaleziony. Upewnij się, że ścieżka jest poprawna."
     ]
    }
   ],
   "source": [
    "load_dotenv()\n",
    "snowflake_password = os.getenv(\"PASSWORD\")\n",
    "\n",
    "# Get connections.toml path\n",
    "current_notebook_dir = Path(os.getcwd())\n",
    "config_file_path = current_notebook_dir.parent.parent / 'config' / 'connections.toml'\n",
    "\n",
    "try:\n",
    "    with open(config_file_path, 'r') as f:\n",
    "        config = toml.load(f)\n",
    "    \n",
    "    if \"connections\" not in config or \"my_connection\" not in config[\"connections\"]:\n",
    "        raise ValueError(f\"Nie znaleziono sekcji 'my_example_connection' w pliku '{config_file_path}'.\")\n",
    "    \n",
    "    connection_parameters = config[\"connections\"][\"my_connection\"]\n",
    "\n",
    "except FileNotFoundError:\n",
    "    raise FileNotFoundError(f\"Plik konfiguracyjny '{config_file_path}' nie został znaleziony. Upewnij się, że ścieżka jest poprawna.\")\n",
    "except toml.TomlDecodeError as e:\n",
    "    raise ValueError(f\"Błąd parsowania pliku TOML '{config_file_path}': {e}. Sprawdź składnię pliku.\")\n",
    "except Exception as e:\n",
    "    raise Exception(f\"Wystąpił nieoczekiwany błąd podczas wczytywania konfiguracji: {e}\")\n",
    "\n",
    "connection_parameters['password'] = snowflake_password\n",
    "session = Session.builder.configs(connection_parameters).create()\n",
    "\n",
    "print(\"Connected to Snowflake!\")\n",
    "print(f\"Database: {session.get_current_database()}\")\n",
    "print(f\"Schema: {session.get_current_schema()}\")\n",
    "print(f\"Warehouse: {session.get_current_warehouse()}\")"
   ]
  },
  {
   "cell_type": "code",
   "execution_count": null,
   "id": "5a3fef92",
   "metadata": {},
   "outputs": [],
   "source": [
    "\n",
    "\n",
    "\n",
    "\n",
    "# Get data\n",
    "df = session.table(\"RAW.CUSTOMER_CHURN_RAW\")\n",
    "\n",
    "\n",
    "print(\"\\n📊 Row count:\", df.count())\n",
    "df.print_schema()\n",
    "\n",
    "print(\"\\n🔍 Sample data:\")\n",
    "df.show(10)\n",
    "\n",
    "print(\"\\n🧑‍🤝_ Gender distribution:\")\n",
    "df.group_by(\"GENDER\").agg(count(\"*\").alias(\"count\")).show()\n",
    "\n",
    "print(\"\\n🌍 Geography distribution:\")\n",
    "df.group_by(\"GEOGRAPHY\").agg(count(\"*\").alias(\"count\")).show()\n",
    "\n",
    "print(\"\\n💳 Card types:\")\n",
    "df.group_by(\"CARD_TYPE\").agg(count(\"*\").alias(\"count\")).show()\n",
    "\n",
    "print(\"\\n💳 Has credit card:\")\n",
    "df.group_by(\"HASCRCARD\").agg(count(\"*\").alias(\"count\")).show()\n",
    "\n",
    "print(\"\\n🔥 Active members:\")\n",
    "df.group_by(\"ISACTIVEMEMBER\").agg(count(\"*\").alias(\"count\")).show()\n",
    "\n",
    "print(\"\\n🚪 Exited distribution:\")\n",
    "df.group_by(\"EXITED\").agg(count(\"*\").alias(\"count\")).show()\n",
    "\n",
    "print(\"\\n📈 Summary statistics (AGE, BALANCE, CREDITSCORE):\")\n",
    "df.select(\"AGE\", \"BALANCE\", \"CREDITSCORE\").describe().show()\n",
    "\n",
    "print(\"\\n💰 Salary vs. Satisfaction:\")\n",
    "df.select(\"ESTIMATEDSALARY\", \"SATISFACTION_SCORE\").describe().show()\n",
    "\n",
    "session.close()\n",
    "print(\"\\nSession closed!\")"
   ]
  }
 ],
 "metadata": {
  "kernelspec": {
   "display_name": "snowflake-project",
   "language": "python",
   "name": "python3"
  },
  "language_info": {
   "codemirror_mode": {
    "name": "ipython",
    "version": 3
   },
   "file_extension": ".py",
   "mimetype": "text/x-python",
   "name": "python",
   "nbconvert_exporter": "python",
   "pygments_lexer": "ipython3",
   "version": "3.12.10"
  }
 },
 "nbformat": 4,
 "nbformat_minor": 5
}
