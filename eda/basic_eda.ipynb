{
 "metadata": {
  "kernelspec": {
   "display_name": "Streamlit Notebook",
   "name": "streamlit"
  },
  "lastEditStatus": {
   "notebookId": "hkvtio2y3adfbn4o2xcw",
   "authorId": "6599863535815",
   "authorName": "ROMAN",
   "authorEmail": "romanafonin@protonmail.com",
   "sessionId": "a2401487-6513-453c-9258-129e1928b8f4",
   "lastEditTime": 1752562040005
  }
 },
 "nbformat_minor": 5,
 "nbformat": 4,
 "cells": [
  {
   "cell_type": "markdown",
   "id": "07a9f1c6-39e3-45a6-9ed0-961400287e1d",
   "metadata": {
    "name": "cell1",
    "collapsed": false
   },
   "source": "# Simple EDA"
  },
  {
   "cell_type": "code",
   "id": "4f51aff2-b8f2-4049-a5ac-d3c4c60b68f7",
   "metadata": {
    "language": "python",
    "name": "cell3"
   },
   "outputs": [],
   "source": "import pandas as pd\nimport snowflake.snowpark as snowpark\nfrom snowflake.snowpark.functions import count\nfrom snowflake.snowpark.context import get_active_session",
   "execution_count": null
  },
  {
   "cell_type": "code",
   "id": "77201594-d52a-439f-a461-136c30a16ccd",
   "metadata": {
    "language": "python",
    "name": "cell4"
   },
   "outputs": [],
   "source": "session = get_active_session()\ndf = session.table(\"RAW.CUSTOMER_CHURN_RAW\")\n\n# Basic info (logged, but not returned)\nprint(\"📊 Row count:\", df.count())\ndf.print_schema()\n\nprint(\"\\n🔍 Sample data:\")\ndf.show(10)\n\n# Categorical value counts\nprint(\"\\n🧑‍🤝‍🧑 Gender distribution:\")\ndf.group_by(\"GENDER\").agg(count(\"*\").alias(\"count\")).show()\n\nprint(\"\\n🌍 Geography distribution:\")\ndf.group_by(\"GEOGRAPHY\").agg(count(\"*\").alias(\"count\")).show()\n\nprint(\"\\n💳 Card types:\")\ndf.group_by(\"CARD_TYPE\").agg(count(\"*\").alias(\"count\")).show()\n\n# Binary flags\nprint(\"\\n💳 Has credit card:\")\ndf.group_by(\"HASCRCARD\").agg(count(\"*\").alias(\"count\")).show()\n\nprint(\"\\n🔥 Active members:\")\ndf.group_by(\"ISACTIVEMEMBER\").agg(count(\"*\").alias(\"count\")).show()\n\n# Target variable\nprint(\"\\n🚪 Exited distribution:\")\ndf.group_by(\"EXITED\").agg(count(\"*\").alias(\"count\")).show()\n\n# Numerical summary\nprint(\"\\n📈 Summary statistics (AGE, BALANCE, CREDITSCORE):\")\ndf.select(\"AGE\", \"BALANCE\", \"CREDITSCORE\").describe().show()\n\nprint(\"\\n💰 Salary vs. Satisfaction:\")\ndf.select(\"ESTIMATEDSALARY\", \"SATISFACTION_SCORE\").describe().show()\n",
   "execution_count": null
  }
 ]
}